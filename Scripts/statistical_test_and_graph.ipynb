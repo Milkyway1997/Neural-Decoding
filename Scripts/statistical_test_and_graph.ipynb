{
 "cells": [
  {
   "cell_type": "code",
   "execution_count": 2,
   "outputs": [],
   "source": [
    "import Window_Size\n",
    "\n",
    "import matplotlib\n",
    "import matplotlib.pyplot as plt\n",
    "matplotlib.use('Qt5Agg')\n",
    "%matplotlib qt5\n",
    "%load_ext autoreload\n",
    "%autoreload 2\n",
    "import numpy as np\n",
    "\n",
    "import Post_Processing\n",
    "pp = Post_Processing.PP()"
   ],
   "metadata": {
    "collapsed": false,
    "pycharm": {
     "name": "#%%\n"
    }
   }
  },
  {
   "cell_type": "code",
   "execution_count": 3,
   "outputs": [],
   "source": [
    "original_results = pp.read_file(fileName='saved results\\\\1011_random_base_seeds.pkl')"
   ],
   "metadata": {
    "collapsed": false,
    "pycharm": {
     "name": "#%%\n"
    }
   }
  },
  {
   "cell_type": "code",
   "execution_count": 4,
   "outputs": [],
   "source": [
    "random_pool_name, random_pool_cate, stages_name_random, stages_cate_random, ind_sub_name_random, ind_sub_cate_random = pp.random_seed_clean_data(original_results)"
   ],
   "metadata": {
    "collapsed": false,
    "pycharm": {
     "name": "#%%\n"
    }
   }
  },
  {
   "cell_type": "code",
   "execution_count": 6,
   "outputs": [],
   "source": [
    "original_results2 = pp.read_file(fileName='saved results\\\\1010_base_different_seeds.pkl')"
   ],
   "metadata": {
    "collapsed": false,
    "pycharm": {
     "name": "#%%\n"
    }
   }
  },
  {
   "cell_type": "code",
   "execution_count": 7,
   "outputs": [],
   "source": [
    "regular_pool_name, regular_pool_cate, stages_name, stages_cate, ind_sub_name, ind_sub_cate = pp.random_seed_clean_data(original_results2)"
   ],
   "metadata": {
    "collapsed": false,
    "pycharm": {
     "name": "#%%\n"
    }
   }
  },
  {
   "cell_type": "code",
   "execution_count": 8,
   "outputs": [
    {
     "name": "stdout",
     "output_type": "stream",
     "text": [
      "[{'pvalue_object': 1.0788904080753008e-34, 'pvalue_category': 1.7227887767263726e-28, 'significant_object': True, 'significant_category': True}\n",
      " {'pvalue_object': 0.9501106492809894, 'pvalue_category': 0.32865456536362214, 'significant_object': False, 'significant_category': False}\n",
      " {'pvalue_object': 0.9859478847472387, 'pvalue_category': 0.997442134058752, 'significant_object': False, 'significant_category': False}\n",
      " {'pvalue_object': 0.0008872337283565471, 'pvalue_category': 0.2169806341251586, 'significant_object': True, 'significant_category': False}]\n"
     ]
    }
   ],
   "source": [
    "results = pp.students_ttest(regular_pool_name=regular_pool_name, random_pool_name=random_pool_name, regular_pool_cate=regular_pool_cate, random_pool_cate=random_pool_cate, p_value=0.05)\n",
    "print(results)"
   ],
   "metadata": {
    "collapsed": false,
    "pycharm": {
     "name": "#%%\n"
    }
   }
  },
  {
   "cell_type": "code",
   "execution_count": 9,
   "outputs": [],
   "source": [
    "cross = pp.get_fixation_cross(ind_sub_name=ind_sub_name, ind_sub_cate=ind_sub_cate, ind_sub_name_random=ind_sub_name_random, ind_sub_cate_random=ind_sub_cate_random)"
   ],
   "metadata": {
    "collapsed": false,
    "pycharm": {
     "name": "#%%\n"
    }
   }
  },
  {
   "cell_type": "code",
   "execution_count": 12,
   "outputs": [
    {
     "data": {
      "text/plain": "0"
     },
     "execution_count": 12,
     "metadata": {},
     "output_type": "execute_result"
    }
   ],
   "source": [
    "pp.create_bar_chart_for_all_stages_dataType2(results_name=stages_name, results_cate=stages_cate, groupBy='subjects', saving_address='C:\\\\Users\\Sakai Lab\\Desktop\\\\1127\\Group By Subjects', cross=cross)\n",
    "plt.close()"
   ],
   "metadata": {
    "collapsed": false,
    "pycharm": {
     "name": "#%%\n"
    }
   }
  },
  {
   "cell_type": "code",
   "execution_count": 13,
   "outputs": [
    {
     "data": {
      "text/plain": "0"
     },
     "execution_count": 13,
     "metadata": {},
     "output_type": "execute_result"
    }
   ],
   "source": [
    "pp.create_bar_chart_for_all_stages_dataType2(results_name=stages_name, results_cate=stages_cate, groupBy='stages', saving_address='C:\\\\Users\\Sakai Lab\\Desktop\\\\1127\\Group By Stages', cross=cross)\n",
    "plt.close()"
   ],
   "metadata": {
    "collapsed": false,
    "pycharm": {
     "name": "#%%\n"
    }
   }
  },
  {
   "cell_type": "code",
   "execution_count": null,
   "outputs": [],
   "source": [],
   "metadata": {
    "collapsed": false,
    "pycharm": {
     "name": "#%%\n"
    }
   }
  }
 ],
 "metadata": {
  "kernelspec": {
   "display_name": "Python 3",
   "language": "python",
   "name": "python3"
  },
  "language_info": {
   "codemirror_mode": {
    "name": "ipython",
    "version": 2
   },
   "file_extension": ".py",
   "mimetype": "text/x-python",
   "name": "python",
   "nbconvert_exporter": "python",
   "pygments_lexer": "ipython2",
   "version": "2.7.6"
  }
 },
 "nbformat": 4,
 "nbformat_minor": 0
}